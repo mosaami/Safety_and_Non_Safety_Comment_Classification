{
  "nbformat": 4,
  "nbformat_minor": 0,
  "metadata": {
    "colab": {
      "provenance": [],
      "gpuType": "T4"
    },
    "kernelspec": {
      "name": "python3",
      "display_name": "Python 3"
    },
    "language_info": {
      "name": "python"
    },
    "accelerator": "GPU"
  },
  "cells": [
    {
      "cell_type": "code",
      "source": [
        "pip install transformers"
      ],
      "metadata": {
        "colab": {
          "base_uri": "https://localhost:8080/"
        },
        "id": "qgIRLumGz4Dt",
        "outputId": "ea6b1449-f593-48cf-cb91-9d858f5ca014"
      },
      "execution_count": 25,
      "outputs": [
        {
          "output_type": "stream",
          "name": "stdout",
          "text": [
            "Requirement already satisfied: transformers in /usr/local/lib/python3.10/dist-packages (4.31.0)\n",
            "Requirement already satisfied: filelock in /usr/local/lib/python3.10/dist-packages (from transformers) (3.12.2)\n",
            "Requirement already satisfied: huggingface-hub<1.0,>=0.14.1 in /usr/local/lib/python3.10/dist-packages (from transformers) (0.16.4)\n",
            "Requirement already satisfied: numpy>=1.17 in /usr/local/lib/python3.10/dist-packages (from transformers) (1.22.4)\n",
            "Requirement already satisfied: packaging>=20.0 in /usr/local/lib/python3.10/dist-packages (from transformers) (23.1)\n",
            "Requirement already satisfied: pyyaml>=5.1 in /usr/local/lib/python3.10/dist-packages (from transformers) (6.0.1)\n",
            "Requirement already satisfied: regex!=2019.12.17 in /usr/local/lib/python3.10/dist-packages (from transformers) (2022.10.31)\n",
            "Requirement already satisfied: requests in /usr/local/lib/python3.10/dist-packages (from transformers) (2.27.1)\n",
            "Requirement already satisfied: tokenizers!=0.11.3,<0.14,>=0.11.1 in /usr/local/lib/python3.10/dist-packages (from transformers) (0.13.3)\n",
            "Requirement already satisfied: safetensors>=0.3.1 in /usr/local/lib/python3.10/dist-packages (from transformers) (0.3.1)\n",
            "Requirement already satisfied: tqdm>=4.27 in /usr/local/lib/python3.10/dist-packages (from transformers) (4.65.0)\n",
            "Requirement already satisfied: fsspec in /usr/local/lib/python3.10/dist-packages (from huggingface-hub<1.0,>=0.14.1->transformers) (2023.6.0)\n",
            "Requirement already satisfied: typing-extensions>=3.7.4.3 in /usr/local/lib/python3.10/dist-packages (from huggingface-hub<1.0,>=0.14.1->transformers) (4.7.1)\n",
            "Requirement already satisfied: urllib3<1.27,>=1.21.1 in /usr/local/lib/python3.10/dist-packages (from requests->transformers) (1.26.16)\n",
            "Requirement already satisfied: certifi>=2017.4.17 in /usr/local/lib/python3.10/dist-packages (from requests->transformers) (2023.7.22)\n",
            "Requirement already satisfied: charset-normalizer~=2.0.0 in /usr/local/lib/python3.10/dist-packages (from requests->transformers) (2.0.12)\n",
            "Requirement already satisfied: idna<4,>=2.5 in /usr/local/lib/python3.10/dist-packages (from requests->transformers) (3.4)\n"
          ]
        }
      ]
    },
    {
      "cell_type": "code",
      "execution_count": 29,
      "metadata": {
        "colab": {
          "base_uri": "https://localhost:8080/"
        },
        "id": "0Z4eL5mMxCwP",
        "outputId": "cacd3289-0711-41ca-b345-39a36c794dff"
      },
      "outputs": [
        {
          "output_type": "stream",
          "name": "stderr",
          "text": [
            "Some weights of DistilBertForSequenceClassification were not initialized from the model checkpoint at distilbert-base-uncased and are newly initialized: ['classifier.weight', 'classifier.bias', 'pre_classifier.bias', 'pre_classifier.weight']\n",
            "You should probably TRAIN this model on a down-stream task to be able to use it for predictions and inference.\n",
            "Failed to determine 'entailment' label id from the label2id mapping in the model config. Setting to -1. Define a descriptive label2id mapping in the model config to ensure correct outputs.\n"
          ]
        },
        {
          "name": "stdout",
          "output_type": "stream",
          "text": [
            "Enter the test message (type 'exit' to stop): someone tried to go inside my room\n",
            "Predicted Label: safety\n",
            "Enter the test message (type 'exit' to stop): unknown person tried to go inside my room\n",
            "Predicted Label: unsafe\n",
            "Enter the test message (type 'exit' to stop): exit\n"
          ]
        }
      ],
      "source": [
        "from transformers import pipeline\n",
        "\n",
        "# Load the zero-shot classification pipeline with 'distilbert-base-uncased'\n",
        "classifier = pipeline(\"zero-shot-classification\", model=\"distilbert-base-uncased\")\n",
        "\n",
        "# Manually annotated training data\n",
        "training_data = [\n",
        "    {\"text\": \"This is a safe message.\", \"labels\": [\"safety\"]},\n",
        "    {\"text\": \"The home is amazing and we are enjoying all of the things. Thanks for checking in!\", \"labels\": [\"safety\"]},\n",
        "    {\"text\": \"All is good! We had to mount a major assault against the smoke detector to get it to stop beeping but we persevered! Those things are tenacious 😂 \", \"labels\": [\"unsafe\"]},\n",
        "    {\"text\": \"Please remember to close the door\", \"labels\": [\"safety\"]},\n",
        "    {\"text\": \"Wouldnt want to discusting discrase dirty horrible host runs a brothel as a business discusting good bye all the best hahahaha\", \"labels\": [\"unsafe\"]},\n",
        "    {\"text\": \"I’ve already had two different groups of people trying to enter my apartment. Luckily, I was at the apartment at the time, so when I heard them punching in the code for the keypad, I immediately let them know that this unit was already OCCUPIED, and to try next door, since they were clearly at the wrong place. If this happened only once, I would understand that this could’ve been an accident — but twice? Leads me to believe they were given the wrong info. I know I was given the wrong info while checking in (which I mentioned in a previous message already), so this is definitely a possibility, and worth looking in to so it doesn’t happen again for me and future guests. These incidences on top of the unannounced repair man, I didn’t feel as safe.\", \"labels\": [\"unsafe\"]},\n",
        "    {\"text\": \"Its really nice place to stay especially for business and tourist purpose.\", \"labels\": [\"safety\"]},\n",
        "    {\"text\": \"Hey does your friends like strippers?\", \"labels\": [\"unsafe\"]},\n",
        "    {\"text\": \"Its value for money. Its a pleasant experience. They have to improve the reception. Otherwise nothing bad about the hotel. Breakfast is super and the staff are very courteous..\", \"labels\": [\"safety\"]},\n",
        "    {\"text\": \"You want me to call the police? Someone has weapons.\", \"labels\": [\"unsafe\"]},\n",
        "    {\"text\": \"As soon as we entered the room our first thought was not to touch anything as it was very dirty. room was worse then a cheap motel room and you wouldn't want to get close to the bed. This is definitely not a 5* hotel as mentioned on Expedia.\", \"labels\": [\"safety\"]},\n",
        "    {\"text\": \"Very unhygienic and staff has not worn masks and they are touching everthing without gloves. They should take more care as new virus is spread.\", \"labels\": [\"unsafe\"]},\n",
        "    {\"text\": \"Everything that you need was in place.. There was no need to call for any Services. Food quality is also equally good. The location is also convenient for air as well as rail.\", \"labels\": [\"safety\"]},\n",
        "    {\"text\": \"I saw a deadbody in the room number 204\", \"labels\": [\"unsafe\"]},\n",
        "    {\"text\": \"Royal stay experience. It is slightly overpriced but you certainly get what you pay. Reception staff is very nice. Big lobby. Variety of restaurant like madras cafe, Peshawar & Italan foods. High security.\", \"labels\": [\"safety\"]},\n",
        "    {\"text\": \"There was no security guard at all.\", \"labels\": [\"unsafe\"]},\n",
        "    {\"text\": \"Nice and clean place to stay. I would rate this place 8.\", \"labels\": [\"safety\"]},\n",
        "    {\"text\": \"I heard scream of a lady in the lobby. Someone was beating her.\", \"labels\": [\"unsafe\"]},\n",
        "    {\"text\": \"I have not seen such a beautiful and luxurious place in my life.\", \"labels\": [\"safety\"]},\n",
        "    {\"text\": \"There is a group of people outside hotels who are offering sex work.\", \"labels\": [\"unsafe\"]},\n",
        "    {\"text\": \"This hotel is in a fantastic location, walking distance to good restaurants and shopping. However, Service is very poor. Staff seems very poorly trained and paid, and that is exactly the service quality they offer, breakfast not up to the mark, checkout will take a long time so be prepared to add 15-20 minutes if you have a flight to catch, coffee/tea maker in room dirty and not per a 4 star property.\", \"labels\": [\"safety\"]},\n",
        "    {\"text\": \"Rooms are not having proper locks and basic security facilities. Windows are not covered properly.Anyone can easily get into the room.\", \"labels\": [\"unsafe\"]},\n",
        "    # Add more examples with their corresponding labels\n",
        "]\n",
        "\n",
        "# Fine-tune the zero-shot classifier with the training data\n",
        "# classifier.train(texts=[data[\"text\"] for data in training_data], labels=[data[\"labels\"] for data in training_data])\n",
        "\n",
        "# Feedback loop for manual labeling of test messages\n",
        "while True:\n",
        "    # Test the model on a given comment\n",
        "    test_message = input(\"Enter the test message (type 'exit' to stop): \")\n",
        "    if test_message.lower() == 'exit':\n",
        "        break\n",
        "\n",
        "    # Predict whether the test message is safe or unsafe\n",
        "    result = classifier(test_message, candidate_labels=[\"safety\", \"unsafe\"])\n",
        "    predicted_label = result[\"labels\"][0]\n",
        "\n",
        "    # Display the predicted label\n",
        "    print(f\"Predicted Label: {predicted_label}\")\n"
      ]
    },
    {
      "cell_type": "code",
      "source": [
        "from transformers import pipeline\n",
        "\n",
        "# Load the zero-shot-classification pipeline\n",
        "classifier = pipeline(\"zero-shot-classification\")\n",
        "\n",
        "# Manually annotated comments and their corresponding labels\n",
        "train_data = [\n",
        "    {\n",
        "        \"comment\": \"This is a safe message.\",\n",
        "        \"label\": \"safe\"\n",
        "    },\n",
        "    {\n",
        "        \"comment\": \"All is good! We had to mount a major assault against the smoke detector to get it to stop beeping but we persevered! Those things are tenacious 😂 \",\n",
        "        \"label\": \"unsafe\"\n",
        "    },\n",
        "    {\n",
        "        \"comment\": \"The home is amazing and we are enjoying all of the things. Thanks for checking in!\",\n",
        "        \"label\": \"safe\"\n",
        "    },\n",
        "    {\n",
        "        \"comment\": \"Please remember to close the door\",\n",
        "        \"label\": \"safe\"\n",
        "    },\n",
        "    {\n",
        "        \"comment\": \"Wouldnt want to discusting discrase dirty horrible host runs a brothel as a business discusting good bye all the best hahahaha\",\n",
        "        \"label\": \"unsafe\"\n",
        "    },\n",
        "    {\n",
        "        \"comment\": \"I’ve already had two different groups of people trying to enter my apartment. Luckily, I was at the apartment at the time, so when I heard them punching in the code for the keypad, I immediately let them know that this unit was already OCCUPIED, and to try next door, since they were clearly at the wrong place. If this happened only once, I would understand that this could’ve been an accident — but twice? Leads me to believe they were given the wrong info. I know I was given the wrong info while checking in (which I mentioned in a previous message already), so this is definitely a possibility, and worth looking in to so it doesn’t happen again for me and future guests. These incidences on top of the unannounced repair man, I didn’t feel as safe.\",\n",
        "        \"label\": \"unsafe\"\n",
        "    },\n",
        "    {\n",
        "        \"comment\": \"Its really nice place to stay especially for business and tourist purpose.\",\n",
        "        \"label\": \"safe\"\n",
        "    },\n",
        "    {\n",
        "        \"comment\": \"Hey does your friends like strippers?\",\n",
        "        \"label\": \"safe\"\n",
        "    },\n",
        "    {\n",
        "        \"comment\": \"Its value for money. Its a pleasant experience. They have to improve the reception. Otherwise nothing bad about the hotel. Breakfast is super and the staff are very courteous..\",\n",
        "        \"label\": \"safe\"\n",
        "    },\n",
        "    {\n",
        "        \"comment\": \"You want me to call the police? Someone has weapons.\",\n",
        "        \"label\": \"unsafe\"\n",
        "    },\n",
        "    {\n",
        "        \"comment\": \"As soon as we entered the room our first thought was not to touch anything as it was very dirty. room was worse then a cheap motel room and you wouldn't want to get close to the bed. This is definitely not a 5* hotel as mentioned on Expedia.\",\n",
        "        \"label\": \"safe\"\n",
        "    },\n",
        "    {\n",
        "        \"comment\": \"Very unhygienic and staff has not worn masks and they are touching everthing without gloves. They should take more care as new virus is spread.\",\n",
        "        \"label\": \"unsafe\"\n",
        "    },\n",
        "    {\n",
        "        \"comment\": \"Everything that you need was in place.. There was no need to call for any Services. Food quality is also equally good. The location is also convenient for air as well as rail.\",\n",
        "        \"label\": \"safe\"\n",
        "    },\n",
        "    {\n",
        "        \"comment\": \"I saw a deadbody in the room number 204\",\n",
        "        \"label\": \"unsafe\"\n",
        "    },\n",
        "    {\n",
        "        \"comment\": \"Royal stay experience. It is slightly overpriced but you certainly get what you pay. Reception staff is very nice. Big lobby. Variety of restaurant like madras cafe, Peshawar & Italan foods. High security.\",\n",
        "        \"label\": \"safe\"\n",
        "    },\n",
        "    {\n",
        "        \"comment\": \"Nice and clean place to stay. I would rate this place 8.\",\n",
        "        \"label\": \"safe\"\n",
        "    },\n",
        "    {\n",
        "        \"comment\": \"There was security guard all around.\",\n",
        "        \"label\": \"safe\"\n",
        "    },\n",
        "    {\n",
        "        \"comment\": \"I heard scream of a lady in the lobby. Someone was beating her.\",\n",
        "        \"label\": \"unsafe\"\n",
        "    },\n",
        "    {\n",
        "        \"comment\": \"I have not seen such a beautiful and luxurious place in my life.\",\n",
        "        \"label\": \"safe\"\n",
        "    },\n",
        "    {\n",
        "        \"comment\": \"There is a group of people outside hotels who are offering sex work.\",\n",
        "        \"label\": \"unsafe\"\n",
        "    },\n",
        "    {\n",
        "        \"comment\": \"This hotel is in a fantastic location, walking distance to good restaurants and shopping. However, Service is very poor. Staff seems very poorly trained and paid, and that is exactly the service quality they offer, breakfast not up to the mark, checkout will take a long time so be prepared to add 15-20 minutes if you have a flight to catch, coffee/tea maker in room dirty and not per a 4 star property.\",\n",
        "        \"label\": \"safe\"\n",
        "    },\n",
        "    {\n",
        "        \"comment\": \"Rooms are not having proper locks and basic security facilities. Windows are not covered properly.Anyone can easily get into the room.\",\n",
        "        \"label\": \"unsafe\"\n",
        "    },\n",
        "    # Add more labeled data here\n",
        "]\n",
        "\n",
        "# Train the model by fine-tuning it with labeled data\n",
        "train_texts = [item[\"comment\"] for item in train_data]\n",
        "train_labels = [item[\"label\"] for item in train_data]\n",
        "\n",
        "# Fine-tuning is not applicable in this scenario for zero-shot classification.\n",
        "\n",
        "# Test the model on the labeled data\n",
        "for text, label in zip(train_texts, train_labels):\n",
        "    result = classifier(text, candidate_labels=[\"safe\", \"unsafe\"])\n",
        "    predicted_label = result[\"labels\"][0]\n",
        "    # print(f\"Text: {text}\\nPredicted Label: {predicted_label}\\nTrue Label: {label}\\n\")\n",
        "\n",
        "# Test the model on new comments\n",
        "test_comments = [\n",
        "    \"Rooms is neat and clean.\",\n",
        "    \"Unknown person entered in my room.\",\n",
        "    \"The sex worker is forcing customers.\",\n",
        "]\n",
        "\n",
        "print(\"Testing on new comments:\")\n",
        "for comment in test_comments:\n",
        "    result = classifier(comment, candidate_labels=[\"safe\", \"unsafe\"])\n",
        "    predicted_label = result[\"labels\"][0]\n",
        "    print(f\"Comment: {comment}\\nPredicted Label: {predicted_label}\\n\")\n",
        "\n"
      ],
      "metadata": {
        "colab": {
          "base_uri": "https://localhost:8080/"
        },
        "id": "cGSw9KLdBPvp",
        "outputId": "b62ec251-7800-4b34-fe73-cd0ccd5a7b38"
      },
      "execution_count": 35,
      "outputs": [
        {
          "output_type": "stream",
          "name": "stderr",
          "text": [
            "No model was supplied, defaulted to facebook/bart-large-mnli and revision c626438 (https://huggingface.co/facebook/bart-large-mnli).\n",
            "Using a pipeline without specifying a model name and revision in production is not recommended.\n"
          ]
        },
        {
          "output_type": "stream",
          "name": "stdout",
          "text": [
            "Testing on new comments:\n",
            "Comment: Rooms is neat and clean.\n",
            "Predicted Label: safe\n",
            "\n",
            "Comment: Unknown person entered in my room.\n",
            "Predicted Label: unsafe\n",
            "\n",
            "Comment: The sex worker is forcing customers.\n",
            "Predicted Label: unsafe\n",
            "\n"
          ]
        }
      ]
    },
    {
      "cell_type": "code",
      "source": [],
      "metadata": {
        "id": "L3cppUfUILcl"
      },
      "execution_count": null,
      "outputs": []
    }
  ]
}